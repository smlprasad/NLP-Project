{
  "nbformat": 4,
  "nbformat_minor": 0,
  "metadata": {
    "kernelspec": {
      "display_name": "Python 3",
      "language": "python",
      "name": "python3"
    },
    "colab": {
      "name": "Twitter.ipynb",
      "provenance": [],
      "collapsed_sections": [],
      "include_colab_link": true
    }
  },
  "cells": [
    {
      "cell_type": "markdown",
      "metadata": {
        "id": "view-in-github",
        "colab_type": "text"
      },
      "source": [
        "<a href=\"https://colab.research.google.com/github/smlprasad/NLP-Project/blob/main/Twitter.ipynb\" target=\"_parent\"><img src=\"https://colab.research.google.com/assets/colab-badge.svg\" alt=\"Open In Colab\"/></a>"
      ]
    },
    {
      "cell_type": "code",
      "metadata": {
        "id": "dQ7niPZz7Oh6",
        "colab": {
          "base_uri": "https://localhost:8080/"
        },
        "outputId": "326349fa-353a-4e50-ce85-58a5e7c4d894"
      },
      "source": [
        "# Import the libraries\n",
        "\n",
        "!pip install emoji\n",
        "import numpy as np\n",
        "import pandas as pd\n",
        "from google.colab import drive\n",
        "from time import time\n",
        "import re\n",
        "import string\n",
        "import os\n",
        "from pprint import pprint\n",
        "import collections\n",
        "import emoji\n",
        "\n",
        "import matplotlib.pyplot as plt\n",
        "import seaborn as sns\n",
        "sns.set(style=\"darkgrid\")\n",
        "sns.set(font_scale=1.3)\n",
        "\n",
        "from sklearn.base import BaseEstimator, TransformerMixin\n",
        "from sklearn.feature_extraction.text import CountVectorizer\n",
        "from sklearn.feature_extraction.text import TfidfVectorizer\n",
        "from sklearn.model_selection import GridSearchCV\n",
        "from sklearn.model_selection import train_test_split\n",
        "from sklearn.pipeline import Pipeline, FeatureUnion\n",
        "from sklearn.metrics import classification_report\n",
        "\n",
        "from sklearn.naive_bayes import MultinomialNB\n",
        "from sklearn.linear_model import LogisticRegression\n",
        "from sklearn.externals import joblib\n",
        "'''\n",
        "import gensim\n",
        "\n",
        "from nltk.corpus import stopwords\n",
        "from nltk.stem import PorterStemmer\n",
        "from nltk.tokenize import word_tokenize\n",
        "'''\n",
        "from nltk.corpus import stopwords\n",
        "from nltk.stem import PorterStemmer\n",
        "from nltk.tokenize import word_tokenize\n",
        "import gensim\n"
      ],
      "execution_count": 1,
      "outputs": [
        {
          "output_type": "stream",
          "text": [
            "Collecting emoji\n",
            "\u001b[?25l  Downloading https://files.pythonhosted.org/packages/24/fa/b3368f41b95a286f8d300e323449ab4e86b85334c2e0b477e94422b8ed0f/emoji-1.2.0-py3-none-any.whl (131kB)\n",
            "\r\u001b[K     |██▌                             | 10kB 16.0MB/s eta 0:00:01\r\u001b[K     |█████                           | 20kB 10.7MB/s eta 0:00:01\r\u001b[K     |███████▌                        | 30kB 7.2MB/s eta 0:00:01\r\u001b[K     |██████████                      | 40kB 7.0MB/s eta 0:00:01\r\u001b[K     |████████████▌                   | 51kB 4.4MB/s eta 0:00:01\r\u001b[K     |███████████████                 | 61kB 4.9MB/s eta 0:00:01\r\u001b[K     |█████████████████▌              | 71kB 4.8MB/s eta 0:00:01\r\u001b[K     |████████████████████            | 81kB 5.1MB/s eta 0:00:01\r\u001b[K     |██████████████████████▌         | 92kB 5.2MB/s eta 0:00:01\r\u001b[K     |█████████████████████████       | 102kB 5.3MB/s eta 0:00:01\r\u001b[K     |███████████████████████████▌    | 112kB 5.3MB/s eta 0:00:01\r\u001b[K     |██████████████████████████████  | 122kB 5.3MB/s eta 0:00:01\r\u001b[K     |████████████████████████████████| 133kB 5.3MB/s \n",
            "\u001b[?25hInstalling collected packages: emoji\n",
            "Successfully installed emoji-1.2.0\n"
          ],
          "name": "stdout"
        },
        {
          "output_type": "stream",
          "text": [
            "/usr/local/lib/python3.6/dist-packages/sklearn/externals/joblib/__init__.py:15: FutureWarning: sklearn.externals.joblib is deprecated in 0.21 and will be removed in 0.23. Please import this functionality directly from joblib, which can be installed with: pip install joblib. If this warning is raised when loading pickled models, you may need to re-serialize those models with scikit-learn 0.21+.\n",
            "  warnings.warn(msg, category=FutureWarning)\n"
          ],
          "name": "stderr"
        }
      ]
    },
    {
      "cell_type": "code",
      "metadata": {
        "colab": {
          "base_uri": "https://localhost:8080/"
        },
        "id": "61wU23eo_OEb",
        "outputId": "40764851-2087-46a6-e38a-2d6fd12c2f08"
      },
      "source": [
        "# Mount google Drive\n",
        "drive.mount('/content/NLP')"
      ],
      "execution_count": 2,
      "outputs": [
        {
          "output_type": "stream",
          "text": [
            "Mounted at /content/NLP\n"
          ],
          "name": "stdout"
        }
      ]
    },
    {
      "cell_type": "code",
      "metadata": {
        "id": "EnoxiC5m7Oh_"
      },
      "source": [
        "# load dataset\n",
        "df = pd.read_csv('NLP/MyDrive/NLP/Tweets.csv')"
      ],
      "execution_count": 5,
      "outputs": []
    },
    {
      "cell_type": "code",
      "metadata": {
        "colab": {
          "base_uri": "https://localhost:8080/"
        },
        "id": "tYmZEdWVXqpk",
        "outputId": "b3748d37-3374-4748-81bb-fa06a9bbb823"
      },
      "source": [
        "# Print Shape of data\n",
        "df.shape"
      ],
      "execution_count": 6,
      "outputs": [
        {
          "output_type": "execute_result",
          "data": {
            "text/plain": [
              "(14640, 15)"
            ]
          },
          "metadata": {
            "tags": []
          },
          "execution_count": 6
        }
      ]
    },
    {
      "cell_type": "code",
      "metadata": {
        "colab": {
          "base_uri": "https://localhost:8080/"
        },
        "id": "LW7Yi-76XziT",
        "outputId": "4d7f758f-7571-40f2-e697-be5fee7c1c07"
      },
      "source": [
        "# Data Description\n",
        "df.describe"
      ],
      "execution_count": 7,
      "outputs": [
        {
          "output_type": "execute_result",
          "data": {
            "text/plain": [
              "<bound method NDFrame.describe of                  tweet_id  ...               user_timezone\n",
              "0      570306133677760513  ...  Eastern Time (US & Canada)\n",
              "1      570301130888122368  ...  Pacific Time (US & Canada)\n",
              "2      570301083672813571  ...  Central Time (US & Canada)\n",
              "3      570301031407624196  ...  Pacific Time (US & Canada)\n",
              "4      570300817074462722  ...  Pacific Time (US & Canada)\n",
              "...                   ...  ...                         ...\n",
              "14635  569587686496825344  ...                         NaN\n",
              "14636  569587371693355008  ...                         NaN\n",
              "14637  569587242672398336  ...                         NaN\n",
              "14638  569587188687634433  ...  Eastern Time (US & Canada)\n",
              "14639  569587140490866689  ...                         NaN\n",
              "\n",
              "[14640 rows x 15 columns]>"
            ]
          },
          "metadata": {
            "tags": []
          },
          "execution_count": 7
        }
      ]
    },
    {
      "cell_type": "code",
      "metadata": {
        "id": "XzlTCS27b7Z0"
      },
      "source": [
        "# Reindexing\n",
        "df = df.reindex(np.random.permutation(df.index)) \n",
        "df.reset_index(inplace=True)\n",
        "# Drop all other columns except “text” and “airline_sentiment”.\n",
        "df.drop('index',inplace=True,axis=1)\n",
        "df = df[['text', 'airline_sentiment']]"
      ],
      "execution_count": 8,
      "outputs": []
    },
    {
      "cell_type": "code",
      "metadata": {
        "colab": {
          "base_uri": "https://localhost:8080/"
        },
        "id": "BNrLw5Zub-wf",
        "outputId": "68546066-c57f-408c-9b55-5c2ac02377ec"
      },
      "source": [
        "# Check the shape of data.\n",
        "df.shape"
      ],
      "execution_count": 9,
      "outputs": [
        {
          "output_type": "execute_result",
          "data": {
            "text/plain": [
              "(14640, 2)"
            ]
          },
          "metadata": {
            "tags": []
          },
          "execution_count": 9
        }
      ]
    },
    {
      "cell_type": "code",
      "metadata": {
        "colab": {
          "base_uri": "https://localhost:8080/",
          "height": 204
        },
        "id": "5Ql9CeIdI4eL",
        "outputId": "7662d255-b8f6-4398-b6f7-6b39a14b495d"
      },
      "source": [
        "# Print first 5 rows of data.\n",
        "df.head()"
      ],
      "execution_count": 10,
      "outputs": [
        {
          "output_type": "execute_result",
          "data": {
            "text/html": [
              "<div>\n",
              "<style scoped>\n",
              "    .dataframe tbody tr th:only-of-type {\n",
              "        vertical-align: middle;\n",
              "    }\n",
              "\n",
              "    .dataframe tbody tr th {\n",
              "        vertical-align: top;\n",
              "    }\n",
              "\n",
              "    .dataframe thead th {\n",
              "        text-align: right;\n",
              "    }\n",
              "</style>\n",
              "<table border=\"1\" class=\"dataframe\">\n",
              "  <thead>\n",
              "    <tr style=\"text-align: right;\">\n",
              "      <th></th>\n",
              "      <th>text</th>\n",
              "      <th>airline_sentiment</th>\n",
              "    </tr>\n",
              "  </thead>\n",
              "  <tbody>\n",
              "    <tr>\n",
              "      <th>0</th>\n",
              "      <td>@united I booked and paid for a flight to get ...</td>\n",
              "      <td>negative</td>\n",
              "    </tr>\n",
              "    <tr>\n",
              "      <th>1</th>\n",
              "      <td>@united @RobBogart After I waited hours in the...</td>\n",
              "      <td>negative</td>\n",
              "    </tr>\n",
              "    <tr>\n",
              "      <th>2</th>\n",
              "      <td>@united why would you overnight my bag Wed to ...</td>\n",
              "      <td>negative</td>\n",
              "    </tr>\n",
              "    <tr>\n",
              "      <th>3</th>\n",
              "      <td>@SouthwestAir Hi! I ❤️ your company and fly al...</td>\n",
              "      <td>positive</td>\n",
              "    </tr>\n",
              "    <tr>\n",
              "      <th>4</th>\n",
              "      <td>@united negative. Done wasting time with amate...</td>\n",
              "      <td>negative</td>\n",
              "    </tr>\n",
              "  </tbody>\n",
              "</table>\n",
              "</div>"
            ],
            "text/plain": [
              "                                                text airline_sentiment\n",
              "0  @united I booked and paid for a flight to get ...          negative\n",
              "1  @united @RobBogart After I waited hours in the...          negative\n",
              "2  @united why would you overnight my bag Wed to ...          negative\n",
              "3  @SouthwestAir Hi! I ❤️ your company and fly al...          positive\n",
              "4  @united negative. Done wasting time with amate...          negative"
            ]
          },
          "metadata": {
            "tags": []
          },
          "execution_count": 10
        }
      ]
    },
    {
      "cell_type": "code",
      "metadata": {
        "id": "kCxMO7Gi7Oh_"
      },
      "source": [
        "# Class to Count Texts in given corpus\n",
        "class TextCounts(BaseEstimator, TransformerMixin):\n",
        "    \n",
        "    def count_regex(self, pattern, tweet):\n",
        "        #finding all the substring containing the pattern in the tweet\n",
        "        return len(re.findall(pattern, tweet))\n",
        "    \n",
        "    def fit(self, X, y=None, **fit_params):\n",
        "        # fit method is used when specific operations need to be done on the train data, but not on the test data\n",
        "        return self\n",
        "    \n",
        "    def transform(self, X, **transform_params):\n",
        "        #all the alphanumeric character\n",
        "        count_words = X.apply(lambda x: self.count_regex(r'\\w+', x)) \n",
        "        count_mentions = X.apply(lambda x: self.count_regex(r'@\\w+', x))\n",
        "        count_hashtags = X.apply(lambda x: self.count_regex(r'#\\w+', x))\n",
        "        count_capital_words = X.apply(lambda x: self.count_regex(r'\\b[A-Z]{2,}\\b', x))\n",
        "        count_excl_quest_marks = X.apply(lambda x: self.count_regex(r'!|\\?+', x))\n",
        "        count_urls = X.apply(lambda x: self.count_regex(r'https?://[^\\s]+[\\s]?', x))\n",
        "        # We will replace the emoji symbols with a description, which makes using a regex for counting easier\n",
        "        # Moreover, it will result in having more words in the tweet\n",
        "        count_emojis = X.apply(lambda x: emoji.demojize(x)).apply(lambda x: self.count_regex(r':[a-z_&]+:', x))\n",
        "        \n",
        "        df = pd.DataFrame({'count_words': count_words\n",
        "                           , 'count_mentions': count_mentions\n",
        "                           , 'count_hashtags': count_hashtags\n",
        "                           , 'count_capital_words': count_capital_words\n",
        "                           , 'count_excl_quest_marks': count_excl_quest_marks\n",
        "                           , 'count_urls': count_urls\n",
        "                           , 'count_emojis': count_emojis\n",
        "                          })\n",
        "        \n",
        "        return df"
      ],
      "execution_count": 11,
      "outputs": []
    },
    {
      "cell_type": "code",
      "metadata": {
        "id": "IA13SUNO7OiA",
        "colab": {
          "base_uri": "https://localhost:8080/",
          "height": 204
        },
        "outputId": "5a70f00d-7d31-423b-ba27-ecd36a497cda"
      },
      "source": [
        "from sklearn.feature_extraction.text import CountVectorizer\n",
        "\n",
        "tc = TextCounts()\n",
        "\n",
        "df_eda = tc.fit_transform(df.text)\n",
        "df_eda.head()\n"
      ],
      "execution_count": 12,
      "outputs": [
        {
          "output_type": "execute_result",
          "data": {
            "text/html": [
              "<div>\n",
              "<style scoped>\n",
              "    .dataframe tbody tr th:only-of-type {\n",
              "        vertical-align: middle;\n",
              "    }\n",
              "\n",
              "    .dataframe tbody tr th {\n",
              "        vertical-align: top;\n",
              "    }\n",
              "\n",
              "    .dataframe thead th {\n",
              "        text-align: right;\n",
              "    }\n",
              "</style>\n",
              "<table border=\"1\" class=\"dataframe\">\n",
              "  <thead>\n",
              "    <tr style=\"text-align: right;\">\n",
              "      <th></th>\n",
              "      <th>count_words</th>\n",
              "      <th>count_mentions</th>\n",
              "      <th>count_hashtags</th>\n",
              "      <th>count_capital_words</th>\n",
              "      <th>count_excl_quest_marks</th>\n",
              "      <th>count_urls</th>\n",
              "      <th>count_emojis</th>\n",
              "    </tr>\n",
              "  </thead>\n",
              "  <tbody>\n",
              "    <tr>\n",
              "      <th>0</th>\n",
              "      <td>28</td>\n",
              "      <td>1</td>\n",
              "      <td>0</td>\n",
              "      <td>0</td>\n",
              "      <td>0</td>\n",
              "      <td>0</td>\n",
              "      <td>0</td>\n",
              "    </tr>\n",
              "    <tr>\n",
              "      <th>1</th>\n",
              "      <td>25</td>\n",
              "      <td>2</td>\n",
              "      <td>0</td>\n",
              "      <td>1</td>\n",
              "      <td>1</td>\n",
              "      <td>0</td>\n",
              "      <td>0</td>\n",
              "    </tr>\n",
              "    <tr>\n",
              "      <th>2</th>\n",
              "      <td>21</td>\n",
              "      <td>1</td>\n",
              "      <td>0</td>\n",
              "      <td>0</td>\n",
              "      <td>1</td>\n",
              "      <td>0</td>\n",
              "      <td>0</td>\n",
              "    </tr>\n",
              "    <tr>\n",
              "      <th>3</th>\n",
              "      <td>26</td>\n",
              "      <td>1</td>\n",
              "      <td>0</td>\n",
              "      <td>0</td>\n",
              "      <td>2</td>\n",
              "      <td>1</td>\n",
              "      <td>1</td>\n",
              "    </tr>\n",
              "    <tr>\n",
              "      <th>4</th>\n",
              "      <td>15</td>\n",
              "      <td>1</td>\n",
              "      <td>0</td>\n",
              "      <td>0</td>\n",
              "      <td>0</td>\n",
              "      <td>0</td>\n",
              "      <td>0</td>\n",
              "    </tr>\n",
              "  </tbody>\n",
              "</table>\n",
              "</div>"
            ],
            "text/plain": [
              "   count_words  count_mentions  ...  count_urls  count_emojis\n",
              "0           28               1  ...           0             0\n",
              "1           25               2  ...           0             0\n",
              "2           21               1  ...           0             0\n",
              "3           26               1  ...           1             1\n",
              "4           15               1  ...           0             0\n",
              "\n",
              "[5 rows x 7 columns]"
            ]
          },
          "metadata": {
            "tags": []
          },
          "execution_count": 12
        }
      ]
    },
    {
      "cell_type": "code",
      "metadata": {
        "colab": {
          "base_uri": "https://localhost:8080/",
          "height": 204
        },
        "id": "j0kzNAmwM0i0",
        "outputId": "391efc6c-16f1-4940-89c9-5367a8bce05a"
      },
      "source": [
        "df_eda['airline_sentiment'] = df.airline_sentiment\n",
        "df_eda.head()"
      ],
      "execution_count": 13,
      "outputs": [
        {
          "output_type": "execute_result",
          "data": {
            "text/html": [
              "<div>\n",
              "<style scoped>\n",
              "    .dataframe tbody tr th:only-of-type {\n",
              "        vertical-align: middle;\n",
              "    }\n",
              "\n",
              "    .dataframe tbody tr th {\n",
              "        vertical-align: top;\n",
              "    }\n",
              "\n",
              "    .dataframe thead th {\n",
              "        text-align: right;\n",
              "    }\n",
              "</style>\n",
              "<table border=\"1\" class=\"dataframe\">\n",
              "  <thead>\n",
              "    <tr style=\"text-align: right;\">\n",
              "      <th></th>\n",
              "      <th>count_words</th>\n",
              "      <th>count_mentions</th>\n",
              "      <th>count_hashtags</th>\n",
              "      <th>count_capital_words</th>\n",
              "      <th>count_excl_quest_marks</th>\n",
              "      <th>count_urls</th>\n",
              "      <th>count_emojis</th>\n",
              "      <th>airline_sentiment</th>\n",
              "    </tr>\n",
              "  </thead>\n",
              "  <tbody>\n",
              "    <tr>\n",
              "      <th>0</th>\n",
              "      <td>28</td>\n",
              "      <td>1</td>\n",
              "      <td>0</td>\n",
              "      <td>0</td>\n",
              "      <td>0</td>\n",
              "      <td>0</td>\n",
              "      <td>0</td>\n",
              "      <td>negative</td>\n",
              "    </tr>\n",
              "    <tr>\n",
              "      <th>1</th>\n",
              "      <td>25</td>\n",
              "      <td>2</td>\n",
              "      <td>0</td>\n",
              "      <td>1</td>\n",
              "      <td>1</td>\n",
              "      <td>0</td>\n",
              "      <td>0</td>\n",
              "      <td>negative</td>\n",
              "    </tr>\n",
              "    <tr>\n",
              "      <th>2</th>\n",
              "      <td>21</td>\n",
              "      <td>1</td>\n",
              "      <td>0</td>\n",
              "      <td>0</td>\n",
              "      <td>1</td>\n",
              "      <td>0</td>\n",
              "      <td>0</td>\n",
              "      <td>negative</td>\n",
              "    </tr>\n",
              "    <tr>\n",
              "      <th>3</th>\n",
              "      <td>26</td>\n",
              "      <td>1</td>\n",
              "      <td>0</td>\n",
              "      <td>0</td>\n",
              "      <td>2</td>\n",
              "      <td>1</td>\n",
              "      <td>1</td>\n",
              "      <td>positive</td>\n",
              "    </tr>\n",
              "    <tr>\n",
              "      <th>4</th>\n",
              "      <td>15</td>\n",
              "      <td>1</td>\n",
              "      <td>0</td>\n",
              "      <td>0</td>\n",
              "      <td>0</td>\n",
              "      <td>0</td>\n",
              "      <td>0</td>\n",
              "      <td>negative</td>\n",
              "    </tr>\n",
              "  </tbody>\n",
              "</table>\n",
              "</div>"
            ],
            "text/plain": [
              "   count_words  count_mentions  ...  count_emojis  airline_sentiment\n",
              "0           28               1  ...             0           negative\n",
              "1           25               2  ...             0           negative\n",
              "2           21               1  ...             0           negative\n",
              "3           26               1  ...             1           positive\n",
              "4           15               1  ...             0           negative\n",
              "\n",
              "[5 rows x 8 columns]"
            ]
          },
          "metadata": {
            "tags": []
          },
          "execution_count": 13
        }
      ]
    },
    {
      "cell_type": "code",
      "metadata": {
        "id": "TMhGz4KoM4Ab"
      },
      "source": [
        "def show_dist(df, col):\n",
        "    print('Descriptive stats for {}'.format(col))\n",
        "    print('-'*(len(col)+22))\n",
        "    print(df.groupby('airline_sentiment')[col].describe())\n",
        "    bins = np.arange(df[col].min(), df[col].max() + 1)\n",
        "    g = sns.FacetGrid(df, col='airline_sentiment', size=5, hue='airline_sentiment', palette=\"PuBuGn_d\")\n",
        "    g = g.map(sns.distplot, col, kde=False, norm_hist=True, bins=bins)\n",
        "    plt.show()"
      ],
      "execution_count": 14,
      "outputs": []
    },
    {
      "cell_type": "code",
      "metadata": {
        "colab": {
          "base_uri": "https://localhost:8080/",
          "height": 576
        },
        "id": "3tM5MmJwM9QN",
        "outputId": "5eb0e75e-eaf4-4e7d-d192-87cfdfc95009"
      },
      "source": [
        "show_dist(df_eda, 'count_words')"
      ],
      "execution_count": 15,
      "outputs": [
        {
          "output_type": "stream",
          "text": [
            "Descriptive stats for count_words\n",
            "---------------------------------\n",
            "                    count       mean       std  min   25%   50%   75%   max\n",
            "airline_sentiment                                                          \n",
            "negative           9178.0  20.387557  6.100020  2.0  17.0  22.0  25.0  35.0\n",
            "neutral            3099.0  15.290094  7.150738  2.0  10.0  15.0  21.0  34.0\n",
            "positive           2363.0  14.478206  7.266129  2.0   8.0  14.0  21.0  33.0\n"
          ],
          "name": "stdout"
        },
        {
          "output_type": "stream",
          "text": [
            "/usr/local/lib/python3.6/dist-packages/seaborn/axisgrid.py:316: UserWarning: The `size` parameter has been renamed to `height`; please update your code.\n",
            "  warnings.warn(msg, UserWarning)\n",
            "/usr/local/lib/python3.6/dist-packages/seaborn/distributions.py:2557: FutureWarning: `distplot` is a deprecated function and will be removed in a future version. Please adapt your code to use either `displot` (a figure-level function with similar flexibility) or `histplot` (an axes-level function for histograms).\n",
            "  warnings.warn(msg, FutureWarning)\n"
          ],
          "name": "stderr"
        },
        {
          "output_type": "display_data",
          "data": {
            "image/png": "[encoded data removed]",
            "text/plain": [
              "<Figure size 1080x360 with 3 Axes>"
            ]
          },
          "metadata": {
            "tags": [],
            "needs_background": "light"
          }
        }
      ]
    },
    {
      "cell_type": "code",
      "metadata": {
        "colab": {
          "base_uri": "https://localhost:8080/",
          "height": 576
        },
        "id": "Y_n_JZr6NFXH",
        "outputId": "d6b1d56d-4589-4911-f7aa-b31fb3c2f89f"
      },
      "source": [
        "show_dist(df_eda, 'count_mentions')"
      ],
      "execution_count": 16,
      "outputs": [
        {
          "output_type": "stream",
          "text": [
            "Descriptive stats for count_mentions\n",
            "------------------------------------\n",
            "                    count      mean       std  min  25%  50%  75%  max\n",
            "airline_sentiment                                                     \n",
            "negative           9178.0  1.111244  0.365420  1.0  1.0  1.0  1.0  6.0\n",
            "neutral            3099.0  1.167473  0.480102  1.0  1.0  1.0  1.0  5.0\n",
            "positive           2363.0  1.138383  0.432462  1.0  1.0  1.0  1.0  6.0\n"
          ],
          "name": "stdout"
        },
        {
          "output_type": "stream",
          "text": [
            "/usr/local/lib/python3.6/dist-packages/seaborn/axisgrid.py:316: UserWarning: The `size` parameter has been renamed to `height`; please update your code.\n",
            "  warnings.warn(msg, UserWarning)\n",
            "/usr/local/lib/python3.6/dist-packages/seaborn/distributions.py:2557: FutureWarning: `distplot` is a deprecated function and will be removed in a future version. Please adapt your code to use either `displot` (a figure-level function with similar flexibility) or `histplot` (an axes-level function for histograms).\n",
            "  warnings.warn(msg, FutureWarning)\n"
          ],
          "name": "stderr"
        },
        {
          "output_type": "display_data",
          "data": {
            "image/png": "[encoded data removed]",
            "text/plain": [
              "<Figure size 1080x360 with 3 Axes>"
            ]
          },
          "metadata": {
            "tags": [],
            "needs_background": "light"
          }
        }
      ]
    },
    {
      "cell_type": "code",
      "metadata": {
        "colab": {
          "base_uri": "https://localhost:8080/",
          "height": 576
        },
        "id": "o-lLq7neNMY4",
        "outputId": "75bdb73b-ffe3-4a54-a640-b9d826dbe10b"
      },
      "source": [
        "show_dist(df_eda, 'count_hashtags')"
      ],
      "execution_count": 17,
      "outputs": [
        {
          "output_type": "stream",
          "text": [
            "Descriptive stats for count_hashtags\n",
            "------------------------------------\n",
            "                    count      mean       std  min  25%  50%  75%  max\n",
            "airline_sentiment                                                     \n",
            "negative           9178.0  0.233384  0.615099  0.0  0.0  0.0  0.0  6.0\n",
            "neutral            3099.0  0.212004  0.666382  0.0  0.0  0.0  0.0  6.0\n",
            "positive           2363.0  0.297503  0.774776  0.0  0.0  0.0  0.0  8.0\n"
          ],
          "name": "stdout"
        },
        {
          "output_type": "stream",
          "text": [
            "/usr/local/lib/python3.6/dist-packages/seaborn/axisgrid.py:316: UserWarning: The `size` parameter has been renamed to `height`; please update your code.\n",
            "  warnings.warn(msg, UserWarning)\n",
            "/usr/local/lib/python3.6/dist-packages/seaborn/distributions.py:2557: FutureWarning: `distplot` is a deprecated function and will be removed in a future version. Please adapt your code to use either `displot` (a figure-level function with similar flexibility) or `histplot` (an axes-level function for histograms).\n",
            "  warnings.warn(msg, FutureWarning)\n"
          ],
          "name": "stderr"
        },
        {
          "output_type": "display_data",
          "data": {
            "image/png": "[encoded data removed]",
            "text/plain": [
              "<Figure size 1080x360 with 3 Axes>"
            ]
          },
          "metadata": {
            "tags": [],
            "needs_background": "light"
          }
        }
      ]
    },
    {
      "cell_type": "code",
      "metadata": {
        "colab": {
          "base_uri": "https://localhost:8080/",
          "height": 576
        },
        "id": "iULvGtInOHlL",
        "outputId": "808173ed-7914-4f47-c4f3-31eda953d44e"
      },
      "source": [
        "show_dist(df_eda, 'count_capital_words')"
      ],
      "execution_count": 18,
      "outputs": [
        {
          "output_type": "stream",
          "text": [
            "Descriptive stats for count_capital_words\n",
            "-----------------------------------------\n",
            "                    count      mean       std  min  25%  50%  75%   max\n",
            "airline_sentiment                                                      \n",
            "negative           9178.0  0.429070  1.019710  0.0  0.0  0.0  1.0  22.0\n",
            "neutral            3099.0  0.462085  0.939468  0.0  0.0  0.0  1.0  11.0\n",
            "positive           2363.0  0.461278  1.234078  0.0  0.0  0.0  1.0  20.0\n"
          ],
          "name": "stdout"
        },
        {
          "output_type": "stream",
          "text": [
            "/usr/local/lib/python3.6/dist-packages/seaborn/axisgrid.py:316: UserWarning: The `size` parameter has been renamed to `height`; please update your code.\n",
            "  warnings.warn(msg, UserWarning)\n",
            "/usr/local/lib/python3.6/dist-packages/seaborn/distributions.py:2557: FutureWarning: `distplot` is a deprecated function and will be removed in a future version. Please adapt your code to use either `displot` (a figure-level function with similar flexibility) or `histplot` (an axes-level function for histograms).\n",
            "  warnings.warn(msg, FutureWarning)\n"
          ],
          "name": "stderr"
        },
        {
          "output_type": "display_data",
          "data": {
            "image/png": "[encoded data removed]",
            "text/plain": [
              "<Figure size 1080x360 with 3 Axes>"
            ]
          },
          "metadata": {
            "tags": [],
            "needs_background": "light"
          }
        }
      ]
    },
    {
      "cell_type": "code",
      "metadata": {
        "colab": {
          "base_uri": "https://localhost:8080/",
          "height": 576
        },
        "id": "CqYlBum2OM6b",
        "outputId": "0b1ebfb7-cd11-42fc-d3a1-31fa81cccabb"
      },
      "source": [
        "show_dist(df_eda, 'count_excl_quest_marks')"
      ],
      "execution_count": 19,
      "outputs": [
        {
          "output_type": "stream",
          "text": [
            "Descriptive stats for count_excl_quest_marks\n",
            "--------------------------------------------\n",
            "                    count      mean       std  min  25%  50%  75%   max\n",
            "airline_sentiment                                                      \n",
            "negative           9178.0  0.589235  1.041339  0.0  0.0  0.0  1.0  27.0\n",
            "neutral            3099.0  0.639238  0.868104  0.0  0.0  0.0  1.0  12.0\n",
            "positive           2363.0  0.890394  1.198117  0.0  0.0  1.0  1.0  13.0\n"
          ],
          "name": "stdout"
        },
        {
          "output_type": "stream",
          "text": [
            "/usr/local/lib/python3.6/dist-packages/seaborn/axisgrid.py:316: UserWarning: The `size` parameter has been renamed to `height`; please update your code.\n",
            "  warnings.warn(msg, UserWarning)\n",
            "/usr/local/lib/python3.6/dist-packages/seaborn/distributions.py:2557: FutureWarning: `distplot` is a deprecated function and will be removed in a future version. Please adapt your code to use either `displot` (a figure-level function with similar flexibility) or `histplot` (an axes-level function for histograms).\n",
            "  warnings.warn(msg, FutureWarning)\n"
          ],
          "name": "stderr"
        },
        {
          "output_type": "display_data",
          "data": {
            "image/png": "[encoded data removed]",
            "text/plain": [
              "<Figure size 1080x360 with 3 Axes>"
            ]
          },
          "metadata": {
            "tags": [],
            "needs_background": "light"
          }
        }
      ]
    },
    {
      "cell_type": "code",
      "metadata": {
        "colab": {
          "base_uri": "https://localhost:8080/",
          "height": 576
        },
        "id": "MSQIyB_BORaQ",
        "outputId": "01f3301b-2481-4c2b-dc74-81a0c31127df"
      },
      "source": [
        "show_dist(df_eda, 'count_urls')"
      ],
      "execution_count": 20,
      "outputs": [
        {
          "output_type": "stream",
          "text": [
            "Descriptive stats for count_urls\n",
            "--------------------------------\n",
            "                    count      mean       std  min  25%  50%  75%  max\n",
            "airline_sentiment                                                     \n",
            "negative           9178.0  0.049248  0.218403  0.0  0.0  0.0  0.0  2.0\n",
            "neutral            3099.0  0.169732  0.401225  0.0  0.0  0.0  0.0  3.0\n",
            "positive           2363.0  0.098603  0.303818  0.0  0.0  0.0  0.0  2.0\n"
          ],
          "name": "stdout"
        },
        {
          "output_type": "stream",
          "text": [
            "/usr/local/lib/python3.6/dist-packages/seaborn/axisgrid.py:316: UserWarning: The `size` parameter has been renamed to `height`; please update your code.\n",
            "  warnings.warn(msg, UserWarning)\n",
            "/usr/local/lib/python3.6/dist-packages/seaborn/distributions.py:2557: FutureWarning: `distplot` is a deprecated function and will be removed in a future version. Please adapt your code to use either `displot` (a figure-level function with similar flexibility) or `histplot` (an axes-level function for histograms).\n",
            "  warnings.warn(msg, FutureWarning)\n"
          ],
          "name": "stderr"
        },
        {
          "output_type": "display_data",
          "data": {
            "image/png": "[encoded data removed]",
            "text/plain": [
              "<Figure size 1080x360 with 3 Axes>"
            ]
          },
          "metadata": {
            "tags": [],
            "needs_background": "light"
          }
        }
      ]
    },
    {
      "cell_type": "code",
      "metadata": {
        "colab": {
          "base_uri": "https://localhost:8080/",
          "height": 576
        },
        "id": "Rn1d-Ws3OWpt",
        "outputId": "09e98df6-1d14-48b1-82d7-a8cb0d479b36"
      },
      "source": [
        "show_dist(df_eda, 'count_emojis')"
      ],
      "execution_count": 21,
      "outputs": [
        {
          "output_type": "stream",
          "text": [
            "Descriptive stats for count_emojis\n",
            "----------------------------------\n",
            "                    count      mean       std  min  25%  50%  75%   max\n",
            "airline_sentiment                                                      \n",
            "negative           9178.0  0.028547  0.258772  0.0  0.0  0.0  0.0   8.0\n",
            "neutral            3099.0  0.075831  0.492415  0.0  0.0  0.0  0.0  13.0\n",
            "positive           2363.0  0.181549  1.257512  0.0  0.0  0.0  0.0  40.0\n"
          ],
          "name": "stdout"
        },
        {
          "output_type": "stream",
          "text": [
            "/usr/local/lib/python3.6/dist-packages/seaborn/axisgrid.py:316: UserWarning: The `size` parameter has been renamed to `height`; please update your code.\n",
            "  warnings.warn(msg, UserWarning)\n",
            "/usr/local/lib/python3.6/dist-packages/seaborn/distributions.py:2557: FutureWarning: `distplot` is a deprecated function and will be removed in a future version. Please adapt your code to use either `displot` (a figure-level function with similar flexibility) or `histplot` (an axes-level function for histograms).\n",
            "  warnings.warn(msg, FutureWarning)\n"
          ],
          "name": "stderr"
        },
        {
          "output_type": "display_data",
          "data": {
            "image/png": "[encoded data removed]",
            "text/plain": [
              "<Figure size 1080x360 with 3 Axes>"
            ]
          },
          "metadata": {
            "tags": [],
            "needs_background": "light"
          }
        }
      ]
    },
    {
      "cell_type": "code",
      "metadata": {
        "id": "qG53_QIjOaxy"
      },
      "source": [
        "# Class to perform Cleaning on given Text (HTML tag removal, )\n",
        "class CleanText(BaseEstimator, TransformerMixin):\n",
        "    def remove_mentions(self, input_text):\n",
        "        return re.sub(r'@\\w+', '', input_text)\n",
        "    \n",
        "    def remove_urls(self, input_text):\n",
        "        return re.sub(r'http.?://[^\\s]+[\\s]?', '', input_text)\n",
        "    \n",
        "    def emoji_oneword(self, input_text):\n",
        "        # By compressing the underscore, the emoji is kept as one word\n",
        "        return input_text.replace('_','')\n",
        "    \n",
        "    def remove_punctuation(self, input_text):\n",
        "        # Make translation table\n",
        "        punct = string.punctuation\n",
        "        trantab = str.maketrans(punct, len(punct)*' ')  # Every punctuation symbol will be replaced by a space\n",
        "        return input_text.translate(trantab)\n",
        "\n",
        "    def remove_digits(self, input_text):\n",
        "        return re.sub('\\d+', '', input_text)\n",
        "    \n",
        "    def to_lower(self, input_text):\n",
        "        return input_text.lower()\n",
        "    \n",
        "    def remove_stopwords(self, input_text):\n",
        "        stopwords_list = stopwords.words('english')\n",
        "        # Some words which might indicate a certain sentiment are kept via a whitelist\n",
        "        whitelist = [\"n't\", \"not\", \"no\"]\n",
        "        words = input_text.split() \n",
        "        clean_words = [word for word in words if (word not in stopwords_list or word in whitelist) and len(word) > 1] \n",
        "        return \" \".join(clean_words) \n",
        "    \n",
        "    def stemming(self, input_text):\n",
        "        porter = PorterStemmer()\n",
        "        words = input_text.split() \n",
        "        stemmed_words = [porter.stem(word) for word in words]\n",
        "        return \" \".join(stemmed_words)\n",
        "    \n",
        "    def fit(self, X, y=None, **fit_params):\n",
        "        return self\n",
        "\n",
        "    def tokenize(self, input_text):\n",
        "         word_tokens = word_tokenize(input_text)\n",
        "         return word_tokens\n",
        "\n",
        "    def transform(self, X, **transform_params):\n",
        "        clean_X = X.apply(self.remove_mentions).apply(self.remove_urls).apply(self.emoji_oneword).apply(self.remove_punctuation).apply(self.remove_digits).apply(self.to_lower).apply(self.remove_stopwords).apply(self.stemming)\n",
        "        return clean_X"
      ],
      "execution_count": 22,
      "outputs": []
    },
    {
      "cell_type": "code",
      "metadata": {
        "colab": {
          "base_uri": "https://localhost:8080/"
        },
        "id": "Bs4zn5w2gIxu",
        "outputId": "669c8706-35e1-479b-90c4-c035834e804a"
      },
      "source": [
        "import nltk\n",
        "nltk.download('stopwords')\n",
        "#nltk.download('punkt')\n",
        "from nltk.corpus import stopwords\n",
        "from nltk.stem import PorterStemmer\n",
        "from nltk.tokenize import word_tokenize\n",
        "from sklearn.feature_extraction.text import CountVectorizer\n",
        "ct = CleanText()\n",
        "sr_clean = ct.fit_transform(df.text)"
      ],
      "execution_count": 24,
      "outputs": [
        {
          "output_type": "stream",
          "text": [
            "[nltk_data] Downloading package stopwords to /root/nltk_data...\n",
            "[nltk_data]   Unzipping corpora/stopwords.zip.\n"
          ],
          "name": "stdout"
        }
      ]
    },
    {
      "cell_type": "code",
      "metadata": {
        "colab": {
          "base_uri": "https://localhost:8080/"
        },
        "id": "4TqygdD4OdqH",
        "outputId": "33cf9393-b934-4f19-855d-8f4afd4fe7a5"
      },
      "source": [
        "empty_clean = sr_clean == ''\n",
        "print('{} records have no words left after text cleaning'.format(sr_clean[empty_clean].count()))\n",
        "sr_clean.loc[empty_clean] = '[no_text]'"
      ],
      "execution_count": 25,
      "outputs": [
        {
          "output_type": "stream",
          "text": [
            "22 records have no words left after text cleaning\n"
          ],
          "name": "stdout"
        }
      ]
    },
    {
      "cell_type": "code",
      "metadata": {
        "colab": {
          "base_uri": "https://localhost:8080/"
        },
        "id": "wjaA0bghQVak",
        "outputId": "e9e15830-2f94-4eeb-df9a-b88f76a470c7"
      },
      "source": [
        "i=1\n",
        "empty_clean = sr_clean == ''\n",
        "\n",
        "print('{} records have no words left after text cleaning'.format(sr_clean[empty_clean].count()))\n",
        "sr_clean.loc[empty_clean] = '[no_text]'\n",
        "print (sr_clean[0:5])"
      ],
      "execution_count": 26,
      "outputs": [
        {
          "output_type": "stream",
          "text": [
            "0 records have no words left after text cleaning\n",
            "0    book paid flight get denver specif time meet f...\n",
            "1     wait hour airport told one fib ual honest custom\n",
            "2    would overnight bag wed unknown locat courier ...\n",
            "3    hi ❤️ compani fli time wonder could pleas shar...\n",
            "4    neg done wast time amateur custom servic thank...\n",
            "Name: text, dtype: object\n"
          ],
          "name": "stdout"
        }
      ]
    },
    {
      "cell_type": "code",
      "metadata": {
        "colab": {
          "base_uri": "https://localhost:8080/"
        },
        "id": "euj-QCksQVdZ",
        "outputId": "363be685-4c0e-4470-8495-2176ce89b964"
      },
      "source": [
        "cv = CountVectorizer()\n",
        "bow = cv.fit_transform(sr_clean)\n",
        "#printing only first 20\n",
        "cv.get_feature_names()[0:20]\n",
        "#bow.sum(axis=0)"
      ],
      "execution_count": 27,
      "outputs": [
        {
          "output_type": "execute_result",
          "data": {
            "text/plain": [
              "['aa',\n",
              " 'aaaand',\n",
              " 'aaadvantag',\n",
              " 'aaalwaysl',\n",
              " 'aadavantag',\n",
              " 'aadelay',\n",
              " 'aadv',\n",
              " 'aadvantag',\n",
              " 'aafail',\n",
              " 'aal',\n",
              " 'aaron',\n",
              " 'aaso',\n",
              " 'aateam',\n",
              " 'ab',\n",
              " 'aback',\n",
              " 'abandon',\n",
              " 'abassinet',\n",
              " 'abbrev',\n",
              " 'abc',\n",
              " 'abcletjetbluestreamfe']"
            ]
          },
          "metadata": {
            "tags": []
          },
          "execution_count": 27
        }
      ]
    },
    {
      "cell_type": "code",
      "metadata": {
        "colab": {
          "base_uri": "https://localhost:8080/",
          "height": 974
        },
        "id": "GaDwKoWKQcPR",
        "outputId": "35dc5a28-4831-4109-a104-f00baf32a7d6"
      },
      "source": [
        "word_freq = dict(zip(cv.get_feature_names(), np.asarray(bow.sum(axis=0)).ravel()))\n",
        "word_counter = collections.Counter(word_freq)\n",
        "word_counter_df = pd.DataFrame(word_counter.most_common(20), columns = ['word', 'freq'])\n",
        "print(word_counter_df)\n",
        "\n",
        "fig, ax = plt.subplots(figsize=(12, 10))\n",
        "sns.barplot(x=\"word\", y=\"freq\", data=word_counter_df, palette=\"PuBuGn_d\", ax=ax)\n",
        "plt.show();"
      ],
      "execution_count": 28,
      "outputs": [
        {
          "output_type": "stream",
          "text": [
            "      word  freq\n",
            "0   flight  4879\n",
            "1    thank  1703\n",
            "2      get  1623\n",
            "3      not  1586\n",
            "4       no  1507\n",
            "5     hour  1167\n",
            "6   cancel  1065\n",
            "7     help  1062\n",
            "8    delay  1010\n",
            "9   servic  1002\n",
            "10    time   987\n",
            "11  custom   947\n",
            "12    call   792\n",
            "13     bag   771\n",
            "14    wait   754\n",
            "15   plane   735\n",
            "16      us   705\n",
            "17     fli   702\n",
            "18    need   688\n",
            "19    hold   687\n"
          ],
          "name": "stdout"
        },
        {
          "output_type": "display_data",
          "data": {
            "image/png": "[encoded data removed]",
            "text/plain": [
              "<Figure size 864x720 with 1 Axes>"
            ]
          },
          "metadata": {
            "tags": [],
            "needs_background": "light"
          }
        }
      ]
    },
    {
      "cell_type": "code",
      "metadata": {
        "colab": {
          "base_uri": "https://localhost:8080/"
        },
        "id": "Ov8ogGkKQg0D",
        "outputId": "4300958c-8da9-4717-ed27-1ffa3ab4ba35"
      },
      "source": [
        "df_model = df_eda\n",
        "df_model['clean_text'] = sr_clean\n",
        "df_model.columns.tolist()"
      ],
      "execution_count": 29,
      "outputs": [
        {
          "output_type": "execute_result",
          "data": {
            "text/plain": [
              "['count_words',\n",
              " 'count_mentions',\n",
              " 'count_hashtags',\n",
              " 'count_capital_words',\n",
              " 'count_excl_quest_marks',\n",
              " 'count_urls',\n",
              " 'count_emojis',\n",
              " 'airline_sentiment',\n",
              " 'clean_text']"
            ]
          },
          "metadata": {
            "tags": []
          },
          "execution_count": 29
        }
      ]
    },
    {
      "cell_type": "code",
      "metadata": {
        "id": "3tmmbSRsQjxp"
      },
      "source": [
        "class ColumnExtractor(TransformerMixin, BaseEstimator):\n",
        "    def __init__(self, cols):\n",
        "        self.cols = cols\n",
        "\n",
        "    def transform(self, X, **transform_params):\n",
        "        return X[self.cols]\n",
        "\n",
        "    def fit(self, X, y=None, **fit_params):\n",
        "        return self"
      ],
      "execution_count": 31,
      "outputs": []
    },
    {
      "cell_type": "code",
      "metadata": {
        "id": "wqN8NBAkQj0I"
      },
      "source": [
        "X_train, X_test, y_train, y_test = train_test_split(df_model.drop('airline_sentiment', axis=1), df_model.airline_sentiment, test_size=0.1, random_state=37)"
      ],
      "execution_count": 32,
      "outputs": []
    },
    {
      "cell_type": "code",
      "metadata": {
        "id": "HMpCGUIgQs8s"
      },
      "source": [
        "def grid_vect(clf, parameters_clf, X_train, X_test, parameters_text=None, vect=None, is_w2v=False):\n",
        "    \n",
        "    textcountscols = ['count_capital_words','count_emojis','count_excl_quest_marks','count_hashtags'\n",
        "                      ,'count_mentions','count_urls','count_words']\n",
        "    \n",
        "    if is_w2v:\n",
        "        w2vcols = []\n",
        "        print(\"not good\")\n",
        "        for i in range(SIZE):\n",
        "            w2vcols.append(i)\n",
        "        features = FeatureUnion([('textcounts', ColumnExtractor(cols=textcountscols))\n",
        "                                 , ('w2v', ColumnExtractor(cols=w2vcols))]\n",
        "                                , n_jobs=-1)\n",
        "    else:\n",
        "        print(\"ok\")\n",
        "        features = FeatureUnion([('textcounts', ColumnExtractor(cols=textcountscols))\n",
        "                                 , ('pipe', Pipeline([('cleantext', ColumnExtractor(cols='clean_text')), ('vect', vect)]))]\n",
        "                                , n_jobs=1)\n",
        "\n",
        "    \n",
        "    pipeline = Pipeline([\n",
        "        ('features', features)\n",
        "        , ('clf', clf)\n",
        "    ])\n",
        "    \n",
        "    # Join the parameters dictionaries together\n",
        "    parameters = dict()\n",
        "    if parameters_text:\n",
        "        parameters.update(parameters_text)\n",
        "    parameters.update(parameters_clf)\n",
        "\n",
        "    grid_search = GridSearchCV(pipeline, parameters, n_jobs=-1, verbose=1, cv=5)\n",
        "    \n",
        "    print(\"Performing grid search...\")\n",
        "    print(\"pipeline:\", [name for name, _ in pipeline.steps])\n",
        "    print(\"parameters:\")\n",
        "    pprint(parameters)\n",
        "\n",
        "    t0 = time()\n",
        "    grid_search.fit(X_train, y_train)\n",
        "    print(\"done in %0.3fs\" % (time() - t0))\n",
        "    print()\n",
        "\n",
        "    print(\"Best CV score: %0.3f\" % grid_search.best_score_)\n",
        "    print(\"Best parameters set:\")\n",
        "    best_parameters = grid_search.best_estimator_.get_params()\n",
        "    for param_name in sorted(parameters.keys()):\n",
        "        print(\"\\t%s: %r\" % (param_name, best_parameters[param_name]))\n",
        "        \n",
        "    print(\"Test score with best_estimator_: %0.3f\" % grid_search.best_estimator_.score(X_test, y_test))\n",
        "    print(\"\\n\")\n",
        "    print(\"Test score with best_estimator_: %0.3f\" % grid_search.best_estimator_.score(X_train, y_train))\n",
        "    print(\"\\n\")\n",
        "    print(\"Classification Report Test Data\")\n",
        "    print(classification_report(y_test, grid_search.best_estimator_.predict(X_test)))\n",
        "    print(\"Classification Report Train Data\")\n",
        "    print(classification_report(y_train, grid_search.best_estimator_.predict(X_train)))                    \n",
        "    return grid_search"
      ],
      "execution_count": 33,
      "outputs": []
    },
    {
      "cell_type": "code",
      "metadata": {
        "id": "ryLOwoMTQxR-"
      },
      "source": [
        "# Parameter grid settings for the vectorizers (Count and TFIDF)\n",
        "parameters_vect = {\n",
        "    'features__pipe__vect__max_df': (0.25, 0.5, 0.75),\n",
        "    'features__pipe__vect__ngram_range': ((1, 1), (1, 2)),\n",
        "    'features__pipe__vect__min_df': (1,2)\n",
        "}\n",
        "\n",
        "\n",
        "# Parameter grid settings for MultinomialNB\n",
        "parameters_mnb = {\n",
        "    'clf__alpha': (0.25, 0.5, 0.75)\n",
        "}\n",
        "\n",
        "\n",
        "# Parameter grid settings for LogisticRegression\n",
        "parameters_logreg = {\n",
        "    'clf__C': (1.05, 1.1, 1.15,1.2),\n",
        "    'clf__penalty': ('l1', 'l2')\n",
        "}"
      ],
      "execution_count": 34,
      "outputs": []
    },
    {
      "cell_type": "code",
      "metadata": {
        "id": "edKU4E3LQxVq"
      },
      "source": [
        "mnb = MultinomialNB()\n",
        "logreg = LogisticRegression()"
      ],
      "execution_count": 35,
      "outputs": []
    },
    {
      "cell_type": "code",
      "metadata": {
        "id": "QX7aM7XZQxiy"
      },
      "source": [
        "# CountVectorizer.\n",
        "countvect = CountVectorizer()"
      ],
      "execution_count": 36,
      "outputs": []
    },
    {
      "cell_type": "code",
      "metadata": {
        "colab": {
          "base_uri": "https://localhost:8080/"
        },
        "id": "OUUBMCe9Q4aq",
        "outputId": "14d28d0f-5bfe-43de-e959-6bb44560d695"
      },
      "source": [
        "best_mnb_countvect = grid_vect(mnb, parameters_mnb, X_train, X_test, parameters_text=parameters_vect, vect=countvect)\n"
      ],
      "execution_count": 37,
      "outputs": [
        {
          "output_type": "stream",
          "text": [
            "ok\n",
            "Performing grid search...\n",
            "pipeline: ['features', 'clf']\n",
            "parameters:\n",
            "{'clf__alpha': (0.25, 0.5, 0.75),\n",
            " 'features__pipe__vect__max_df': (0.25, 0.5, 0.75),\n",
            " 'features__pipe__vect__min_df': (1, 2),\n",
            " 'features__pipe__vect__ngram_range': ((1, 1), (1, 2))}\n",
            "Fitting 5 folds for each of 36 candidates, totalling 180 fits\n"
          ],
          "name": "stdout"
        },
        {
          "output_type": "stream",
          "text": [
            "[Parallel(n_jobs=-1)]: Using backend LokyBackend with 2 concurrent workers.\n",
            "[Parallel(n_jobs=-1)]: Done  46 tasks      | elapsed:   17.5s\n",
            "[Parallel(n_jobs=-1)]: Done 180 out of 180 | elapsed:  1.0min finished\n"
          ],
          "name": "stderr"
        },
        {
          "output_type": "stream",
          "text": [
            "done in 60.941s\n",
            "\n",
            "Best CV score: 0.780\n",
            "Best parameters set:\n",
            "\tclf__alpha: 0.5\n",
            "\tfeatures__pipe__vect__max_df: 0.25\n",
            "\tfeatures__pipe__vect__min_df: 2\n",
            "\tfeatures__pipe__vect__ngram_range: (1, 2)\n",
            "Test score with best_estimator_: 0.785\n",
            "\n",
            "\n",
            "Test score with best_estimator_: 0.882\n",
            "\n",
            "\n",
            "Classification Report Test Data\n",
            "              precision    recall  f1-score   support\n",
            "\n",
            "    negative       0.82      0.91      0.86       905\n",
            "     neutral       0.67      0.52      0.59       316\n",
            "    positive       0.75      0.65      0.70       243\n",
            "\n",
            "    accuracy                           0.78      1464\n",
            "   macro avg       0.75      0.70      0.72      1464\n",
            "weighted avg       0.78      0.78      0.78      1464\n",
            "\n",
            "Classification Report Train Data\n",
            "              precision    recall  f1-score   support\n",
            "\n",
            "    negative       0.91      0.93      0.92      8273\n",
            "     neutral       0.80      0.74      0.77      2783\n",
            "    positive       0.85      0.88      0.86      2120\n",
            "\n",
            "    accuracy                           0.88     13176\n",
            "   macro avg       0.86      0.85      0.85     13176\n",
            "weighted avg       0.88      0.88      0.88     13176\n",
            "\n"
          ],
          "name": "stdout"
        }
      ]
    },
    {
      "cell_type": "code",
      "metadata": {
        "colab": {
          "base_uri": "https://localhost:8080/"
        },
        "id": "52fMMrVWtO8T",
        "outputId": "ed33430f-694e-4b27-a992-900ae5e2773d"
      },
      "source": [
        "best_logreg_countvect = grid_vect(logreg, parameters_logreg, X_train, X_test, parameters_text=parameters_vect, vect=countvect)\n"
      ],
      "execution_count": 38,
      "outputs": [
        {
          "output_type": "stream",
          "text": [
            "ok\n",
            "Performing grid search...\n",
            "pipeline: ['features', 'clf']\n",
            "parameters:\n",
            "{'clf__C': (1.05, 1.1, 1.15, 1.2),\n",
            " 'clf__penalty': ('l1', 'l2'),\n",
            " 'features__pipe__vect__max_df': (0.25, 0.5, 0.75),\n",
            " 'features__pipe__vect__min_df': (1, 2),\n",
            " 'features__pipe__vect__ngram_range': ((1, 1), (1, 2))}\n",
            "Fitting 5 folds for each of 96 candidates, totalling 480 fits\n"
          ],
          "name": "stdout"
        },
        {
          "output_type": "stream",
          "text": [
            "[Parallel(n_jobs=-1)]: Using backend LokyBackend with 2 concurrent workers.\n",
            "[Parallel(n_jobs=-1)]: Done  46 tasks      | elapsed:   10.8s\n",
            "[Parallel(n_jobs=-1)]: Done 196 tasks      | elapsed:  2.5min\n",
            "[Parallel(n_jobs=-1)]: Done 446 tasks      | elapsed:  6.3min\n",
            "[Parallel(n_jobs=-1)]: Done 480 out of 480 | elapsed:  7.2min finished\n",
            "/usr/local/lib/python3.6/dist-packages/sklearn/linear_model/_logistic.py:940: ConvergenceWarning: lbfgs failed to converge (status=1):\n",
            "STOP: TOTAL NO. of ITERATIONS REACHED LIMIT.\n",
            "\n",
            "Increase the number of iterations (max_iter) or scale the data as shown in:\n",
            "    https://scikit-learn.org/stable/modules/preprocessing.html\n",
            "Please also refer to the documentation for alternative solver options:\n",
            "    https://scikit-learn.org/stable/modules/linear_model.html#logistic-regression\n",
            "  extra_warning_msg=_LOGISTIC_SOLVER_CONVERGENCE_MSG)\n"
          ],
          "name": "stderr"
        },
        {
          "output_type": "stream",
          "text": [
            "done in 432.918s\n",
            "\n",
            "Best CV score: 0.788\n",
            "Best parameters set:\n",
            "\tclf__C: 1.2\n",
            "\tclf__penalty: 'l2'\n",
            "\tfeatures__pipe__vect__max_df: 0.5\n",
            "\tfeatures__pipe__vect__min_df: 2\n",
            "\tfeatures__pipe__vect__ngram_range: (1, 2)\n",
            "Test score with best_estimator_: 0.772\n",
            "\n",
            "\n",
            "Test score with best_estimator_: 0.831\n",
            "\n",
            "\n",
            "Classification Report Test Data\n",
            "              precision    recall  f1-score   support\n",
            "\n",
            "    negative       0.83      0.88      0.86       905\n",
            "     neutral       0.60      0.54      0.57       316\n",
            "    positive       0.74      0.66      0.70       243\n",
            "\n",
            "    accuracy                           0.77      1464\n",
            "   macro avg       0.72      0.69      0.71      1464\n",
            "weighted avg       0.77      0.77      0.77      1464\n",
            "\n",
            "Classification Report Train Data\n",
            "              precision    recall  f1-score   support\n",
            "\n",
            "    negative       0.88      0.92      0.90      8273\n",
            "     neutral       0.71      0.65      0.68      2783\n",
            "    positive       0.77      0.73      0.75      2120\n",
            "\n",
            "    accuracy                           0.83     13176\n",
            "   macro avg       0.79      0.77      0.78     13176\n",
            "weighted avg       0.83      0.83      0.83     13176\n",
            "\n"
          ],
          "name": "stdout"
        }
      ]
    },
    {
      "cell_type": "code",
      "metadata": {
        "id": "uuwOQ-DBolyv"
      },
      "source": [
        "# TfidfVectorizer\n",
        "tfidfvect = TfidfVectorizer()"
      ],
      "execution_count": 39,
      "outputs": []
    },
    {
      "cell_type": "code",
      "metadata": {
        "colab": {
          "base_uri": "https://localhost:8080/"
        },
        "id": "UxlDZXMHosLB",
        "outputId": "bc709e51-5d27-4a8e-a9e9-e42e8df4eaef"
      },
      "source": [
        "best_mnb_tfidf = grid_vect(mnb, parameters_mnb, X_train, X_test, parameters_text=parameters_vect, vect=tfidfvect)"
      ],
      "execution_count": 40,
      "outputs": [
        {
          "output_type": "stream",
          "text": [
            "ok\n",
            "Performing grid search...\n",
            "pipeline: ['features', 'clf']\n",
            "parameters:\n",
            "{'clf__alpha': (0.25, 0.5, 0.75),\n",
            " 'features__pipe__vect__max_df': (0.25, 0.5, 0.75),\n",
            " 'features__pipe__vect__min_df': (1, 2),\n",
            " 'features__pipe__vect__ngram_range': ((1, 1), (1, 2))}\n",
            "Fitting 5 folds for each of 36 candidates, totalling 180 fits\n"
          ],
          "name": "stdout"
        },
        {
          "output_type": "stream",
          "text": [
            "[Parallel(n_jobs=-1)]: Using backend LokyBackend with 2 concurrent workers.\n",
            "[Parallel(n_jobs=-1)]: Done  46 tasks      | elapsed:   14.4s\n",
            "[Parallel(n_jobs=-1)]: Done 180 out of 180 | elapsed:   56.6s finished\n"
          ],
          "name": "stderr"
        },
        {
          "output_type": "stream",
          "text": [
            "done in 57.151s\n",
            "\n",
            "Best CV score: 0.750\n",
            "Best parameters set:\n",
            "\tclf__alpha: 0.25\n",
            "\tfeatures__pipe__vect__max_df: 0.25\n",
            "\tfeatures__pipe__vect__min_df: 2\n",
            "\tfeatures__pipe__vect__ngram_range: (1, 2)\n",
            "Test score with best_estimator_: 0.751\n",
            "\n",
            "\n",
            "Test score with best_estimator_: 0.849\n",
            "\n",
            "\n",
            "Classification Report Test Data\n",
            "              precision    recall  f1-score   support\n",
            "\n",
            "    negative       0.75      0.96      0.84       905\n",
            "     neutral       0.72      0.36      0.48       316\n",
            "    positive       0.81      0.47      0.59       243\n",
            "\n",
            "    accuracy                           0.75      1464\n",
            "   macro avg       0.76      0.60      0.64      1464\n",
            "weighted avg       0.75      0.75      0.72      1464\n",
            "\n",
            "Classification Report Train Data\n",
            "              precision    recall  f1-score   support\n",
            "\n",
            "    negative       0.84      0.97      0.90      8273\n",
            "     neutral       0.87      0.59      0.71      2783\n",
            "    positive       0.88      0.70      0.78      2120\n",
            "\n",
            "    accuracy                           0.85     13176\n",
            "   macro avg       0.87      0.76      0.80     13176\n",
            "weighted avg       0.85      0.85      0.84     13176\n",
            "\n"
          ],
          "name": "stdout"
        }
      ]
    },
    {
      "cell_type": "code",
      "metadata": {
        "colab": {
          "base_uri": "https://localhost:8080/"
        },
        "id": "W4Ry4-3IpGNm",
        "outputId": "de215948-b93a-4d66-f764-51fddc104aa5"
      },
      "source": [
        "best_logreg_tfidf = grid_vect(logreg, parameters_logreg, X_train, X_test, parameters_text=parameters_vect, vect=tfidfvect)"
      ],
      "execution_count": 41,
      "outputs": [
        {
          "output_type": "stream",
          "text": [
            "ok\n",
            "Performing grid search...\n",
            "pipeline: ['features', 'clf']\n",
            "parameters:\n",
            "{'clf__C': (1.05, 1.1, 1.15, 1.2),\n",
            " 'clf__penalty': ('l1', 'l2'),\n",
            " 'features__pipe__vect__max_df': (0.25, 0.5, 0.75),\n",
            " 'features__pipe__vect__min_df': (1, 2),\n",
            " 'features__pipe__vect__ngram_range': ((1, 1), (1, 2))}\n",
            "Fitting 5 folds for each of 96 candidates, totalling 480 fits\n"
          ],
          "name": "stdout"
        },
        {
          "output_type": "stream",
          "text": [
            "[Parallel(n_jobs=-1)]: Using backend LokyBackend with 2 concurrent workers.\n",
            "[Parallel(n_jobs=-1)]: Done  46 tasks      | elapsed:   11.2s\n",
            "[Parallel(n_jobs=-1)]: Done 196 tasks      | elapsed:  2.5min\n",
            "[Parallel(n_jobs=-1)]: Done 446 tasks      | elapsed:  6.3min\n",
            "[Parallel(n_jobs=-1)]: Done 480 out of 480 | elapsed:  7.2min finished\n",
            "/usr/local/lib/python3.6/dist-packages/sklearn/linear_model/_logistic.py:940: ConvergenceWarning: lbfgs failed to converge (status=1):\n",
            "STOP: TOTAL NO. of ITERATIONS REACHED LIMIT.\n",
            "\n",
            "Increase the number of iterations (max_iter) or scale the data as shown in:\n",
            "    https://scikit-learn.org/stable/modules/preprocessing.html\n",
            "Please also refer to the documentation for alternative solver options:\n",
            "    https://scikit-learn.org/stable/modules/linear_model.html#logistic-regression\n",
            "  extra_warning_msg=_LOGISTIC_SOLVER_CONVERGENCE_MSG)\n"
          ],
          "name": "stderr"
        },
        {
          "output_type": "stream",
          "text": [
            "done in 434.819s\n",
            "\n",
            "Best CV score: 0.761\n",
            "Best parameters set:\n",
            "\tclf__C: 1.2\n",
            "\tclf__penalty: 'l2'\n",
            "\tfeatures__pipe__vect__max_df: 0.25\n",
            "\tfeatures__pipe__vect__min_df: 2\n",
            "\tfeatures__pipe__vect__ngram_range: (1, 2)\n",
            "Test score with best_estimator_: 0.745\n",
            "\n",
            "\n",
            "Test score with best_estimator_: 0.774\n",
            "\n",
            "\n",
            "Classification Report Test Data\n",
            "              precision    recall  f1-score   support\n",
            "\n",
            "    negative       0.79      0.92      0.85       905\n",
            "     neutral       0.59      0.43      0.50       316\n",
            "    positive       0.68      0.49      0.57       243\n",
            "\n",
            "    accuracy                           0.74      1464\n",
            "   macro avg       0.69      0.61      0.64      1464\n",
            "weighted avg       0.73      0.74      0.73      1464\n",
            "\n",
            "Classification Report Train Data\n",
            "              precision    recall  f1-score   support\n",
            "\n",
            "    negative       0.80      0.93      0.86      8273\n",
            "     neutral       0.65      0.49      0.56      2783\n",
            "    positive       0.76      0.53      0.63      2120\n",
            "\n",
            "    accuracy                           0.77     13176\n",
            "   macro avg       0.74      0.65      0.68     13176\n",
            "weighted avg       0.76      0.77      0.76     13176\n",
            "\n"
          ],
          "name": "stdout"
        }
      ]
    },
    {
      "cell_type": "markdown",
      "metadata": {
        "id": "RUDTq9_UtrFY"
      },
      "source": [
        "### **Summarize your understanding of the application of Various Pre-processing and Vectorization and performance of your model on this dataset.**"
      ]
    },
    {
      "cell_type": "markdown",
      "metadata": {
        "id": "agMUMKUrt39t"
      },
      "source": [
        "\n",
        "# List of Text Preprocessing Steps\n",
        "## Based on the general outline above, we performed a series of steps under each component.\n",
        "\n",
        "1. Remove HTML tags\n",
        "2. Remove extra whitespaces\n",
        "3. Convert accented characters to ASCII characters\n",
        "4. Expand contractions\n",
        "5. Remove special characters\n",
        "6. Lowercase all texts\n",
        "7. Convert number words to numeric form\n",
        "8. Remove numbers\n",
        "9. Remove stopwords\n",
        "10. Lemmatization\n",
        "\n",
        "\n",
        "\n",
        "\n"
      ]
    },
    {
      "cell_type": "markdown",
      "metadata": {
        "id": "vvQkypRBqlNa"
      },
      "source": [
        "TF-IDF\n",
        "\n",
        "Term Frequency - Inverse Document Frequency it makes sure that less importance is given to most frequent words and also considers less frequent words.\n",
        "\n",
        "Term Frequency is number of times a particular word(W) occurs in a review divided by totall number of words (Wr) in review. The term frequency value ranges from 0 to 1.\n",
        "\n",
        "Inverse Document Frequency is calculated as log(Total Number of Docs(N) / Number of Docs which contains particular word(n)). Here Docs referred as Reviews.\n",
        "\n",
        "TF-IDF is TF * IDF that is (W/Wr)*LOG(N/n)\n",
        "\n",
        "Using scikit-learn's tfidfVectorizer we can get the TF-IDF.\n",
        "\n",
        "So even here we get a TF-IDF value for every word and in some cases it may consider different meaning reviews as similar after stopwords removal. so to over come we can use BI-Gram or NGram."
      ]
    },
    {
      "cell_type": "markdown",
      "metadata": {
        "id": "tu1t3hyRxHp-"
      },
      "source": [
        "1. Vectorizer with MultinomialNB test score with best_estimator_: **0.882**\n",
        "2. Vectorizer with LogisticRegression test score with best_estimator_: **0.831**\n",
        "3. Test score with MultinomialNB best_estimator_: **0.849**\n",
        "4. Test score with LogisticRegression best_estimator_: **0.774**\n",
        "\n"
      ]
    }
  ]
}